{
 "cells": [
  {
   "cell_type": "markdown",
   "metadata": {},
   "source": [
    "# Wikidata Exploration\n",
    "\n",
    "https://www.jcchouinard.com/wikidata-api-python/"
   ]
  },
  {
   "cell_type": "code",
   "execution_count": 1,
   "metadata": {},
   "outputs": [],
   "source": [
    "import requests\n",
    "from datetime import datetime"
   ]
  },
  {
   "cell_type": "markdown",
   "metadata": {},
   "source": [
    "## Birth Date"
   ]
  },
  {
   "cell_type": "code",
   "execution_count": 2,
   "metadata": {},
   "outputs": [],
   "source": [
    "def fetch_wikidata(params):\n",
    "    url = \"https://www.wikidata.org/w/api.php\"\n",
    "    try:\n",
    "        response = requests.get(url, params=params)\n",
    "        return response.json()  # Return JSON content here\n",
    "    except requests.exceptions.RequestException as e:\n",
    "        return f\"There was an error: {e}\""
   ]
  },
  {
   "cell_type": "code",
   "execution_count": 3,
   "metadata": {},
   "outputs": [],
   "source": [
    "def get_wiki_id_from_page(page_title):\n",
    "\n",
    "    params = {\n",
    "        \"action\": \"wbgetentities\",\n",
    "        \"format\": \"json\",\n",
    "        \"sites\": \"enwiki\",  # This specifies the English Wikipedia\n",
    "        \"titles\": page_title,\n",
    "        \"languages\": \"en\",  # Language for labels and descriptions\n",
    "    }\n",
    "\n",
    "    # Fetch API\n",
    "    data = fetch_wikidata(params)\n",
    "\n",
    "    # Extract the Wikidata entity ID\n",
    "    entity_id = list(data['entities'].keys())[0]\n",
    "    return entity_id\n"
   ]
  },
  {
   "cell_type": "code",
   "execution_count": 4,
   "metadata": {},
   "outputs": [],
   "source": [
    "entity_id = get_wiki_id_from_page(\"Tina_Turner\")"
   ]
  },
  {
   "cell_type": "markdown",
   "metadata": {},
   "source": [
    "## Birth Date"
   ]
  },
  {
   "cell_type": "code",
   "execution_count": 5,
   "metadata": {},
   "outputs": [],
   "source": [
    "def get_birth_death_date(identifier, entity_id):\n",
    "    # Create parameters\n",
    "    params = {\n",
    "        'action': 'wbgetentities',\n",
    "        'ids': entity_id, \n",
    "        'format': 'json',\n",
    "        'languages': 'en'\n",
    "    }\n",
    "\n",
    "    # Fetch the API\n",
    "    data = fetch_wikidata(params)\n",
    "\n",
    "    # Extract birth date\n",
    "    date = data['entities'][entity_id]['claims'][identifier][0]['mainsnak']['datavalue']['value']['time']\n",
    "    date = datetime.strptime(date, '+%Y-%m-%dT%H:%M:%SZ')\n",
    "\n",
    "    return date"
   ]
  },
  {
   "cell_type": "code",
   "execution_count": 6,
   "metadata": {},
   "outputs": [
    {
     "name": "stdout",
     "output_type": "stream",
     "text": [
      "Birth Date: 11-26-1939\n"
     ]
    }
   ],
   "source": [
    "birth_date = get_birth_death_date(\"P569\", entity_id)\n",
    "\n",
    "formatted_date = birth_date.strftime('%m-%d-%Y')\n",
    "print(\"Birth Date:\", formatted_date)"
   ]
  },
  {
   "cell_type": "code",
   "execution_count": 8,
   "metadata": {},
   "outputs": [
    {
     "name": "stdout",
     "output_type": "stream",
     "text": [
      "Death Date: 05-24-2023\n"
     ]
    }
   ],
   "source": [
    "birth_date = get_birth_death_date(\"P570\", entity_id)\n",
    "\n",
    "formatted_date = birth_date.strftime('%m-%d-%Y')\n",
    "print(\"Death Date:\", formatted_date)"
   ]
  }
 ],
 "metadata": {
  "kernelspec": {
   "display_name": "venv",
   "language": "python",
   "name": "python3"
  },
  "language_info": {
   "codemirror_mode": {
    "name": "ipython",
    "version": 3
   },
   "file_extension": ".py",
   "mimetype": "text/x-python",
   "name": "python",
   "nbconvert_exporter": "python",
   "pygments_lexer": "ipython3",
   "version": "3.11.5"
  }
 },
 "nbformat": 4,
 "nbformat_minor": 2
}
