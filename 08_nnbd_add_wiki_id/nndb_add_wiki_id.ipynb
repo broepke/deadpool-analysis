{
 "cells": [
  {
   "cell_type": "code",
   "execution_count": 10,
   "metadata": {},
   "outputs": [],
   "source": [
    "import requests\n",
    "from datetime import datetime\n",
    "import urllib.parse\n",
    "import pandas as pd"
   ]
  },
  {
   "cell_type": "code",
   "execution_count": 11,
   "metadata": {},
   "outputs": [],
   "source": [
    "def fetch_wikidata(params):\n",
    "    url = \"https://www.wikidata.org/w/api.php\"\n",
    "    try:\n",
    "        response = requests.get(url, params=params)\n",
    "        return response.json()  # Return JSON content here\n",
    "    except requests.exceptions.RequestException as e:\n",
    "        return f\"There was an error: {e}\""
   ]
  },
  {
   "cell_type": "code",
   "execution_count": 12,
   "metadata": {},
   "outputs": [],
   "source": [
    "def get_wiki_id_from_page(page_title):\n",
    "    params = {\n",
    "        \"action\": \"wbgetentities\",\n",
    "        \"format\": \"json\",\n",
    "        \"sites\": \"enwiki\",\n",
    "        \"titles\": page_title,\n",
    "        \"languages\": \"en\",\n",
    "        \"redirects\": \"yes\",\n",
    "    }\n",
    "\n",
    "    # Fetch API\n",
    "    data = fetch_wikidata(params)\n",
    "\n",
    "    # Extract the Wikidata entity ID\n",
    "    if 'entities' in data and len(data['entities']) > 0:\n",
    "        entity_id = list(data['entities'].keys())[0]\n",
    "    else:\n",
    "        entity_id = '-1'\n",
    "    return entity_id"
   ]
  },
  {
   "cell_type": "code",
   "execution_count": 13,
   "metadata": {},
   "outputs": [],
   "source": [
    "# Load the CSV file\n",
    "df = pd.read_csv('nndb.csv')"
   ]
  },
  {
   "cell_type": "code",
   "execution_count": 14,
   "metadata": {},
   "outputs": [],
   "source": [
    "# Filter rows where WIKI_ID is -1\n",
    "df_needs_update = df[df['WIKI_ID'] == '-1']"
   ]
  },
  {
   "cell_type": "code",
   "execution_count": 15,
   "metadata": {},
   "outputs": [
    {
     "data": {
      "text/plain": [
       "4912"
      ]
     },
     "execution_count": 15,
     "metadata": {},
     "output_type": "execute_result"
    }
   ],
   "source": [
    "len(df_needs_update)"
   ]
  },
  {
   "cell_type": "code",
   "execution_count": null,
   "metadata": {},
   "outputs": [],
   "source": [
    "# Apply the function only to rows that need update\n",
    "df_needs_update['WIKI_ID'] = df_needs_update['WIKI_PAGE'].apply(get_wiki_id_from_page)"
   ]
  },
  {
   "cell_type": "code",
   "execution_count": null,
   "metadata": {},
   "outputs": [],
   "source": [
    "# Merge the updated data back into the original dataframe\n",
    "df.update(df_needs_update)"
   ]
  },
  {
   "cell_type": "code",
   "execution_count": null,
   "metadata": {},
   "outputs": [],
   "source": [
    "len(df)"
   ]
  },
  {
   "cell_type": "code",
   "execution_count": null,
   "metadata": {},
   "outputs": [],
   "source": [
    "# Save the updated dataframe to a new CSV file\n",
    "df.to_csv('updated_nndb_wiki_id.csv', index=False)"
   ]
  }
 ],
 "metadata": {
  "kernelspec": {
   "display_name": "venv",
   "language": "python",
   "name": "python3"
  },
  "language_info": {
   "codemirror_mode": {
    "name": "ipython",
    "version": 3
   },
   "file_extension": ".py",
   "mimetype": "text/x-python",
   "name": "python",
   "nbconvert_exporter": "python",
   "pygments_lexer": "ipython3",
   "version": "3.11.6"
  }
 },
 "nbformat": 4,
 "nbformat_minor": 2
}
