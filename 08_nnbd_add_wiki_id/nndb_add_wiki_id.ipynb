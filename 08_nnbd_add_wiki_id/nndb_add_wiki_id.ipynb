{
 "cells": [
  {
   "cell_type": "code",
   "execution_count": 21,
   "metadata": {},
   "outputs": [],
   "source": [
    "import requests\n",
    "from datetime import datetime\n",
    "import urllib.parse\n",
    "import pandas as pd"
   ]
  },
  {
   "cell_type": "code",
   "execution_count": 22,
   "metadata": {},
   "outputs": [],
   "source": [
    "def fetch_wikidata(params):\n",
    "    wikidata_url = \"https://www.wikidata.org/w/api.php\"\n",
    "    try:\n",
    "        response = requests.get(wikidata_url, params=params)\n",
    "        return response.json()\n",
    "    except requests.exceptions.RequestException as e:\n",
    "        return f\"There was an error: {e}\""
   ]
  },
  {
   "cell_type": "code",
   "execution_count": 23,
   "metadata": {},
   "outputs": [],
   "source": [
    "# Function to resolve multiple redirects on Wikipedia\n",
    "def resolve_redirect(title):\n",
    "    wikipedia_api_url = \"https://en.wikipedia.org/w/api.php\"\n",
    "\n",
    "    def query_wikipedia(t):\n",
    "        params = {\n",
    "            \"action\": \"query\",\n",
    "            \"titles\": t,\n",
    "            \"redirects\": 1,\n",
    "            \"format\": \"json\"\n",
    "        }\n",
    "        response = requests.get(wikipedia_api_url, params=params)\n",
    "        return response.json()\n",
    "\n",
    "    data = query_wikipedia(title)\n",
    "\n",
    "    # Loop to follow through all redirects\n",
    "    while 'redirects' in data['query']:\n",
    "        # Get the last redirect target\n",
    "        redirects = data['query']['redirects']\n",
    "        final_redirect = redirects[-1]['to']\n",
    "        data = query_wikipedia(final_redirect)\n",
    "\n",
    "    if 'normalized' in data['query']:\n",
    "        final_title = data['query']['normalized'][0]['to']\n",
    "    elif 'pages' in data['query']:\n",
    "        page_id = next(iter(data['query']['pages']))\n",
    "        final_title = data['query']['pages'][page_id]['title']\n",
    "    else:\n",
    "        final_title = title  # No normalization or redirects, use the original title\n",
    "\n",
    "    return final_title\n"
   ]
  },
  {
   "cell_type": "code",
   "execution_count": 24,
   "metadata": {},
   "outputs": [],
   "source": [
    "# Function to get the Wikidata ID from a Wikipedia page title\n",
    "def get_wiki_id_from_page(page_title):\n",
    "    final_title = resolve_redirect(page_title)  # Resolve redirects first\n",
    "    params = {\n",
    "        \"action\": \"wbgetentities\",\n",
    "        \"format\": \"json\",\n",
    "        \"sites\": \"enwiki\",\n",
    "        \"titles\": final_title,\n",
    "        \"languages\": \"en\",\n",
    "        \"redirects\": \"yes\",\n",
    "    }\n",
    "    data = fetch_wikidata(params)\n",
    "    if isinstance(data, str) or 'entities' not in data or len(data['entities']) == 0:\n",
    "        return None\n",
    "\n",
    "    entity_id = list(data['entities'].keys())[0]\n",
    "    return entity_id"
   ]
  },
  {
   "cell_type": "code",
   "execution_count": 25,
   "metadata": {},
   "outputs": [],
   "source": [
    "# Load the CSV file\n",
    "df = pd.read_csv('nndb.csv')"
   ]
  },
  {
   "cell_type": "code",
   "execution_count": 26,
   "metadata": {},
   "outputs": [],
   "source": [
    "# Filter rows where WIKI_ID is -1\n",
    "df_needs_update = df[df['WIKI_ID'] == '-1']"
   ]
  },
  {
   "cell_type": "code",
   "execution_count": 27,
   "metadata": {},
   "outputs": [
    {
     "data": {
      "text/plain": [
       "6"
      ]
     },
     "execution_count": 27,
     "metadata": {},
     "output_type": "execute_result"
    }
   ],
   "source": [
    "len(df_needs_update)"
   ]
  },
  {
   "cell_type": "code",
   "execution_count": 28,
   "metadata": {},
   "outputs": [
    {
     "name": "stderr",
     "output_type": "stream",
     "text": [
      "/var/folders/bq/7m4s9ggj7d1_d2gmbh7ffmf40000gn/T/ipykernel_68363/366946256.py:2: SettingWithCopyWarning: \n",
      "A value is trying to be set on a copy of a slice from a DataFrame.\n",
      "Try using .loc[row_indexer,col_indexer] = value instead\n",
      "\n",
      "See the caveats in the documentation: https://pandas.pydata.org/pandas-docs/stable/user_guide/indexing.html#returning-a-view-versus-a-copy\n",
      "  df_needs_update['WIKI_ID'] = df_needs_update['WIKI_PAGE'].apply(get_wiki_id_from_page)\n"
     ]
    }
   ],
   "source": [
    "# Apply the function only to rows that need update\n",
    "df_needs_update['WIKI_ID'] = df_needs_update['WIKI_PAGE'].apply(get_wiki_id_from_page)"
   ]
  },
  {
   "cell_type": "code",
   "execution_count": 29,
   "metadata": {},
   "outputs": [],
   "source": [
    "# Merge the updated data back into the original dataframe\n",
    "df.update(df_needs_update)"
   ]
  },
  {
   "cell_type": "code",
   "execution_count": 30,
   "metadata": {},
   "outputs": [],
   "source": [
    "# Save the updated dataframe to a new CSV file\n",
    "df.to_csv('updated_nndb_wiki_id.csv', index=False)"
   ]
  }
 ],
 "metadata": {
  "kernelspec": {
   "display_name": "venv",
   "language": "python",
   "name": "python3"
  },
  "language_info": {
   "codemirror_mode": {
    "name": "ipython",
    "version": 3
   },
   "file_extension": ".py",
   "mimetype": "text/x-python",
   "name": "python",
   "nbconvert_exporter": "python",
   "pygments_lexer": "ipython3",
   "version": "3.11.6"
  }
 },
 "nbformat": 4,
 "nbformat_minor": 2
}
