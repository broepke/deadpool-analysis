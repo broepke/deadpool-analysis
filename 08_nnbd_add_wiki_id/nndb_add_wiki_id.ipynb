{
 "cells": [
  {
   "cell_type": "code",
   "execution_count": 1,
   "metadata": {},
   "outputs": [],
   "source": [
    "import requests\n",
    "from datetime import datetime\n",
    "import urllib.parse\n",
    "import pandas as pd"
   ]
  },
  {
   "cell_type": "code",
   "execution_count": 2,
   "metadata": {},
   "outputs": [],
   "source": [
    "def fetch_wikidata(params):\n",
    "    url = \"https://www.wikidata.org/w/api.php\"\n",
    "    try:\n",
    "        response = requests.get(url, params=params)\n",
    "        return response.json()  # Return JSON content here\n",
    "    except requests.exceptions.RequestException as e:\n",
    "        return f\"There was an error: {e}\""
   ]
  },
  {
   "cell_type": "code",
   "execution_count": 3,
   "metadata": {},
   "outputs": [],
   "source": [
    "def get_wiki_id_from_page(page_title):\n",
    "\n",
    "    params = {\n",
    "        \"action\": \"wbgetentities\",\n",
    "        \"format\": \"json\",\n",
    "        \"sites\": \"enwiki\",  # This specifies the English Wikipedia\n",
    "        \"titles\": page_title,\n",
    "        \"languages\": \"en\",  # Language for labels and descriptions\n",
    "    }\n",
    "\n",
    "    # Fetch API\n",
    "    data = fetch_wikidata(params)\n",
    "\n",
    "    # Extract the Wikidata entity ID\n",
    "    entity_id = list(data['entities'].keys())[0]\n",
    "    return entity_id\n"
   ]
  },
  {
   "cell_type": "code",
   "execution_count": 4,
   "metadata": {},
   "outputs": [
    {
     "data": {
      "text/plain": [
       "'Q919527'"
      ]
     },
     "execution_count": 4,
     "metadata": {},
     "output_type": "execute_result"
    }
   ],
   "source": [
    "# Decode the URL-encoded title\n",
    "page_title = urllib.parse.unquote(\"Tom_Brokaw\")\n",
    "\n",
    "entity_id = get_wiki_id_from_page(page_title)\n",
    "entity_id"
   ]
  },
  {
   "cell_type": "code",
   "execution_count": 5,
   "metadata": {},
   "outputs": [],
   "source": [
    "df = pd.read_csv('nndb.csv')"
   ]
  },
  {
   "cell_type": "code",
   "execution_count": 6,
   "metadata": {},
   "outputs": [
    {
     "data": {
      "text/html": [
       "<div>\n",
       "<style scoped>\n",
       "    .dataframe tbody tr th:only-of-type {\n",
       "        vertical-align: middle;\n",
       "    }\n",
       "\n",
       "    .dataframe tbody tr th {\n",
       "        vertical-align: top;\n",
       "    }\n",
       "\n",
       "    .dataframe thead th {\n",
       "        text-align: right;\n",
       "    }\n",
       "</style>\n",
       "<table border=\"1\" class=\"dataframe\">\n",
       "  <thead>\n",
       "    <tr style=\"text-align: right;\">\n",
       "      <th></th>\n",
       "      <th>ID</th>\n",
       "      <th>WIKI_PAGE</th>\n",
       "    </tr>\n",
       "  </thead>\n",
       "  <tbody>\n",
       "    <tr>\n",
       "      <th>0</th>\n",
       "      <td>e66912fa8bf67ef6c7fa974ac93bac72</td>\n",
       "      <td>Lindsey_Way</td>\n",
       "    </tr>\n",
       "    <tr>\n",
       "      <th>1</th>\n",
       "      <td>3d4a232524cde73e7b1725cdc663bb4b</td>\n",
       "      <td>Morton_Dauwen_Zabel</td>\n",
       "    </tr>\n",
       "    <tr>\n",
       "      <th>2</th>\n",
       "      <td>fe332275caf5b3ecb55c1a5cd82a959a</td>\n",
       "      <td>William_Zabka</td>\n",
       "    </tr>\n",
       "    <tr>\n",
       "      <th>3</th>\n",
       "      <td>a57ebea4e9bd96ea6ef1fa644ad627bb</td>\n",
       "      <td>Grace_Zabriskie</td>\n",
       "    </tr>\n",
       "    <tr>\n",
       "      <th>4</th>\n",
       "      <td>0ed81342099b7e06040a4ebb8c01ac77</td>\n",
       "      <td>Mark_Zachares</td>\n",
       "    </tr>\n",
       "    <tr>\n",
       "      <th>...</th>\n",
       "      <td>...</td>\n",
       "      <td>...</td>\n",
       "    </tr>\n",
       "    <tr>\n",
       "      <th>36418</th>\n",
       "      <td>f6d57c5400750b54882d1963f3af025c</td>\n",
       "      <td>David_Starr_Jordan</td>\n",
       "    </tr>\n",
       "    <tr>\n",
       "      <th>36419</th>\n",
       "      <td>457804b87baeef8ac8d798724797794c</td>\n",
       "      <td>Dorothea_Jordan</td>\n",
       "    </tr>\n",
       "    <tr>\n",
       "      <th>36420</th>\n",
       "      <td>268488710849bce236dd2fcf5e8d67a1</td>\n",
       "      <td>Eddie_Jordan</td>\n",
       "    </tr>\n",
       "    <tr>\n",
       "      <th>36421</th>\n",
       "      <td>165dc604c4df39ab0aa168b0028beaa5</td>\n",
       "      <td>Frank_Jordan</td>\n",
       "    </tr>\n",
       "    <tr>\n",
       "      <th>36422</th>\n",
       "      <td>54b80d753e1ed92eb7cb6c6ce9c771d3</td>\n",
       "      <td>Glenn_Jordan</td>\n",
       "    </tr>\n",
       "  </tbody>\n",
       "</table>\n",
       "<p>36423 rows × 2 columns</p>\n",
       "</div>"
      ],
      "text/plain": [
       "                                     ID            WIKI_PAGE\n",
       "0      e66912fa8bf67ef6c7fa974ac93bac72          Lindsey_Way\n",
       "1      3d4a232524cde73e7b1725cdc663bb4b  Morton_Dauwen_Zabel\n",
       "2      fe332275caf5b3ecb55c1a5cd82a959a        William_Zabka\n",
       "3      a57ebea4e9bd96ea6ef1fa644ad627bb      Grace_Zabriskie\n",
       "4      0ed81342099b7e06040a4ebb8c01ac77        Mark_Zachares\n",
       "...                                 ...                  ...\n",
       "36418  f6d57c5400750b54882d1963f3af025c   David_Starr_Jordan\n",
       "36419  457804b87baeef8ac8d798724797794c      Dorothea_Jordan\n",
       "36420  268488710849bce236dd2fcf5e8d67a1         Eddie_Jordan\n",
       "36421  165dc604c4df39ab0aa168b0028beaa5         Frank_Jordan\n",
       "36422  54b80d753e1ed92eb7cb6c6ce9c771d3         Glenn_Jordan\n",
       "\n",
       "[36423 rows x 2 columns]"
      ]
     },
     "execution_count": 6,
     "metadata": {},
     "output_type": "execute_result"
    }
   ],
   "source": [
    "df"
   ]
  },
  {
   "cell_type": "markdown",
   "metadata": {},
   "source": [
    "`Yes i understand this is 100% YOLO to not do this incrementally`"
   ]
  },
  {
   "cell_type": "code",
   "execution_count": null,
   "metadata": {},
   "outputs": [],
   "source": []
  },
  {
   "cell_type": "code",
   "execution_count": 8,
   "metadata": {},
   "outputs": [],
   "source": [
    "# Apply the function to the 'WIKI_PAGE' column and create a new 'WIKI_ID' column\n",
    "df['WIKI_ID'] = df['WIKI_PAGE'].apply(get_wiki_id_from_page)"
   ]
  },
  {
   "cell_type": "code",
   "execution_count": 9,
   "metadata": {},
   "outputs": [],
   "source": [
    "df.to_csv('seed_nndb_wiki_id.csv')"
   ]
  },
  {
   "cell_type": "code",
   "execution_count": null,
   "metadata": {},
   "outputs": [],
   "source": []
  }
 ],
 "metadata": {
  "kernelspec": {
   "display_name": "venv",
   "language": "python",
   "name": "python3"
  },
  "language_info": {
   "codemirror_mode": {
    "name": "ipython",
    "version": 3
   },
   "file_extension": ".py",
   "mimetype": "text/x-python",
   "name": "python",
   "nbconvert_exporter": "python",
   "pygments_lexer": "ipython3",
   "version": "3.11.6"
  }
 },
 "nbformat": 4,
 "nbformat_minor": 2
}
