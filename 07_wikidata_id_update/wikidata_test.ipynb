{
 "cells": [
  {
   "cell_type": "markdown",
   "metadata": {},
   "source": [
    "# Wikidata Exploration\n",
    "\n",
    "https://www.jcchouinard.com/wikidata-api-python/"
   ]
  },
  {
   "cell_type": "code",
   "execution_count": 1,
   "metadata": {},
   "outputs": [],
   "source": [
    "import requests\n",
    "from datetime import datetime\n",
    "import urllib.parse"
   ]
  },
  {
   "cell_type": "markdown",
   "metadata": {},
   "source": [
    "## Birth Date"
   ]
  },
  {
   "cell_type": "code",
   "execution_count": 2,
   "metadata": {},
   "outputs": [],
   "source": [
    "def fetch_wikidata(params):\n",
    "    url = \"https://www.wikidata.org/w/api.php\"\n",
    "    try:\n",
    "        response = requests.get(url, params=params)\n",
    "        return response.json()  # Return JSON content here\n",
    "    except requests.exceptions.RequestException as e:\n",
    "        return f\"There was an error: {e}\""
   ]
  },
  {
   "cell_type": "code",
   "execution_count": 3,
   "metadata": {},
   "outputs": [],
   "source": [
    "def get_wiki_id_from_page(page_title):\n",
    "\n",
    "    params = {\n",
    "        \"action\": \"wbgetentities\",\n",
    "        \"format\": \"json\",\n",
    "        \"sites\": \"enwiki\",  # This specifies the English Wikipedia\n",
    "        \"titles\": page_title,\n",
    "        \"languages\": \"en\",\n",
    "        \"redirects\": \"yes\",\n",
    "    }\n",
    "\n",
    "    # Fetch API\n",
    "    data = fetch_wikidata(params)\n",
    "\n",
    "    # Extract the Wikidata entity ID\n",
    "    entity_id = list(data['entities'].keys())[0]\n",
    "    return entity_id\n"
   ]
  },
  {
   "cell_type": "code",
   "execution_count": 7,
   "metadata": {},
   "outputs": [
    {
     "data": {
      "text/plain": [
       "'Q185610'"
      ]
     },
     "execution_count": 7,
     "metadata": {},
     "output_type": "execute_result"
    }
   ],
   "source": [
    "# Decode the URL-encoded title\n",
    "page_title = urllib.parse.unquote(\"Will.i.am\")\n",
    "\n",
    "entity_id = get_wiki_id_from_page(page_title)\n",
    "entity_id"
   ]
  },
  {
   "cell_type": "markdown",
   "metadata": {},
   "source": [
    "## Birth Date"
   ]
  },
  {
   "cell_type": "code",
   "execution_count": 5,
   "metadata": {},
   "outputs": [],
   "source": [
    "def get_birth_death_date(identifier, entity_id):\n",
    "    # Create parameters\n",
    "    params = {\n",
    "        'action': 'wbgetentities',\n",
    "        'ids': entity_id, \n",
    "        'format': 'json',\n",
    "        'languages': 'en'\n",
    "    }\n",
    "\n",
    "    # Fetch the API\n",
    "    data = fetch_wikidata(params)\n",
    "\n",
    "    # Extract birth date\n",
    "    date_str = data['entities'][entity_id]['claims'][identifier][0]['mainsnak']['datavalue']['value']['time']\n",
    "    \n",
    "    # Parse the string into a datetime object\n",
    "    date_obj = datetime.strptime(date_str, '+%Y-%m-%dT%H:%M:%SZ')\n",
    "\n",
    "    return date_obj"
   ]
  },
  {
   "cell_type": "code",
   "execution_count": 6,
   "metadata": {},
   "outputs": [
    {
     "ename": "KeyError",
     "evalue": "'entities'",
     "output_type": "error",
     "traceback": [
      "\u001b[0;31m---------------------------------------------------------------------------\u001b[0m",
      "\u001b[0;31mKeyError\u001b[0m                                  Traceback (most recent call last)",
      "Cell \u001b[0;32mIn[6], line 1\u001b[0m\n\u001b[0;32m----> 1\u001b[0m birth_date \u001b[38;5;241m=\u001b[39m \u001b[43mget_birth_death_date\u001b[49m\u001b[43m(\u001b[49m\u001b[38;5;124;43m\"\u001b[39;49m\u001b[38;5;124;43mP569\u001b[39;49m\u001b[38;5;124;43m\"\u001b[39;49m\u001b[43m,\u001b[49m\u001b[43m \u001b[49m\u001b[43mentity_id\u001b[49m\u001b[43m)\u001b[49m\n\u001b[1;32m      2\u001b[0m birth_date\n",
      "Cell \u001b[0;32mIn[5], line 14\u001b[0m, in \u001b[0;36mget_birth_death_date\u001b[0;34m(identifier, entity_id)\u001b[0m\n\u001b[1;32m     11\u001b[0m data \u001b[38;5;241m=\u001b[39m fetch_wikidata(params)\n\u001b[1;32m     13\u001b[0m \u001b[38;5;66;03m# Extract birth date\u001b[39;00m\n\u001b[0;32m---> 14\u001b[0m date_str \u001b[38;5;241m=\u001b[39m \u001b[43mdata\u001b[49m\u001b[43m[\u001b[49m\u001b[38;5;124;43m'\u001b[39;49m\u001b[38;5;124;43mentities\u001b[39;49m\u001b[38;5;124;43m'\u001b[39;49m\u001b[43m]\u001b[49m[entity_id][\u001b[38;5;124m'\u001b[39m\u001b[38;5;124mclaims\u001b[39m\u001b[38;5;124m'\u001b[39m][identifier][\u001b[38;5;241m0\u001b[39m][\u001b[38;5;124m'\u001b[39m\u001b[38;5;124mmainsnak\u001b[39m\u001b[38;5;124m'\u001b[39m][\u001b[38;5;124m'\u001b[39m\u001b[38;5;124mdatavalue\u001b[39m\u001b[38;5;124m'\u001b[39m][\u001b[38;5;124m'\u001b[39m\u001b[38;5;124mvalue\u001b[39m\u001b[38;5;124m'\u001b[39m][\u001b[38;5;124m'\u001b[39m\u001b[38;5;124mtime\u001b[39m\u001b[38;5;124m'\u001b[39m]\n\u001b[1;32m     16\u001b[0m \u001b[38;5;66;03m# Parse the string into a datetime object\u001b[39;00m\n\u001b[1;32m     17\u001b[0m date_obj \u001b[38;5;241m=\u001b[39m datetime\u001b[38;5;241m.\u001b[39mstrptime(date_str, \u001b[38;5;124m'\u001b[39m\u001b[38;5;124m+\u001b[39m\u001b[38;5;124m%\u001b[39m\u001b[38;5;124mY-\u001b[39m\u001b[38;5;124m%\u001b[39m\u001b[38;5;124mm-\u001b[39m\u001b[38;5;132;01m%d\u001b[39;00m\u001b[38;5;124mT\u001b[39m\u001b[38;5;124m%\u001b[39m\u001b[38;5;124mH:\u001b[39m\u001b[38;5;124m%\u001b[39m\u001b[38;5;124mM:\u001b[39m\u001b[38;5;124m%\u001b[39m\u001b[38;5;124mSZ\u001b[39m\u001b[38;5;124m'\u001b[39m)\n",
      "\u001b[0;31mKeyError\u001b[0m: 'entities'"
     ]
    }
   ],
   "source": [
    "birth_date = get_birth_death_date(\"P569\", entity_id)\n",
    "birth_date"
   ]
  },
  {
   "cell_type": "code",
   "execution_count": null,
   "metadata": {},
   "outputs": [
    {
     "name": "stdout",
     "output_type": "stream",
     "text": [
      "2023-11-29 00:00:00\n",
      "<class 'datetime.datetime'>\n"
     ]
    }
   ],
   "source": [
    "try:\n",
    "    death_date = get_birth_death_date(\"P570\", entity_id)\n",
    "    print(death_date)\n",
    "    print(type(death_date))\n",
    "except:\n",
    "    print(\"No Death Date\")"
   ]
  }
 ],
 "metadata": {
  "kernelspec": {
   "display_name": "venv",
   "language": "python",
   "name": "python3"
  },
  "language_info": {
   "codemirror_mode": {
    "name": "ipython",
    "version": 3
   },
   "file_extension": ".py",
   "mimetype": "text/x-python",
   "name": "python",
   "nbconvert_exporter": "python",
   "pygments_lexer": "ipython3",
   "version": "3.11.6"
  }
 },
 "nbformat": 4,
 "nbformat_minor": 2
}
