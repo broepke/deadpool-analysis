{
 "cells": [
  {
   "cell_type": "markdown",
   "metadata": {},
   "source": [
    "# Wikidata Exploration\n",
    "\n",
    "https://www.jcchouinard.com/wikidata-api-python/"
   ]
  },
  {
   "cell_type": "code",
   "execution_count": 1,
   "metadata": {},
   "outputs": [],
   "source": [
    "import requests\n",
    "from datetime import datetime\n",
    "import urllib.parse"
   ]
  },
  {
   "cell_type": "markdown",
   "metadata": {},
   "source": [
    "## Birth Date"
   ]
  },
  {
   "cell_type": "code",
   "execution_count": 2,
   "metadata": {},
   "outputs": [],
   "source": [
    "def fetch_wikidata(params):\n",
    "    url = \"https://www.wikidata.org/w/api.php\"\n",
    "    try:\n",
    "        response = requests.get(url, params=params)\n",
    "        return response.json()  # Return JSON content here\n",
    "    except requests.exceptions.RequestException as e:\n",
    "        return f\"There was an error: {e}\""
   ]
  },
  {
   "cell_type": "code",
   "execution_count": 3,
   "metadata": {},
   "outputs": [],
   "source": [
    "def get_wiki_id_from_page(page_title):\n",
    "\n",
    "    params = {\n",
    "        \"action\": \"wbgetentities\",\n",
    "        \"format\": \"json\",\n",
    "        \"sites\": \"enwiki\",  # This specifies the English Wikipedia\n",
    "        \"titles\": page_title,\n",
    "        \"languages\": \"en\",\n",
    "        \"redirects\": \"yes\",\n",
    "    }\n",
    "\n",
    "    # Fetch API\n",
    "    data = fetch_wikidata(params)\n",
    "\n",
    "    # Extract the Wikidata entity ID\n",
    "    entity_id = list(data['entities'].keys())[0]\n",
    "    return entity_id\n"
   ]
  },
  {
   "cell_type": "code",
   "execution_count": 4,
   "metadata": {},
   "outputs": [
    {
     "data": {
      "text/plain": [
       "'-1'"
      ]
     },
     "execution_count": 4,
     "metadata": {},
     "output_type": "execute_result"
    }
   ],
   "source": [
    "# Decode the URL-encoded title\n",
    "page_title = urllib.parse.unquote(\"William_T._Sherman\")\n",
    "\n",
    "entity_id = get_wiki_id_from_page(page_title)\n",
    "entity_id"
   ]
  },
  {
   "cell_type": "markdown",
   "metadata": {},
   "source": [
    "## Birth Date"
   ]
  },
  {
   "cell_type": "code",
   "execution_count": 19,
   "metadata": {},
   "outputs": [],
   "source": [
    "def get_birth_death_date(identifier, entity_id):\n",
    "    # Create parameters\n",
    "    params = {\n",
    "        'action': 'wbgetentities',\n",
    "        'ids': entity_id, \n",
    "        'format': 'json',\n",
    "        'languages': 'en'\n",
    "    }\n",
    "\n",
    "    # Fetch the API\n",
    "    data = fetch_wikidata(params)\n",
    "\n",
    "    # Extract birth date\n",
    "    date_str = data['entities'][entity_id]['claims'][identifier][0]['mainsnak']['datavalue']['value']['time']\n",
    "    \n",
    "    # Parse the string into a datetime object\n",
    "    date_obj = datetime.strptime(date_str, '+%Y-%m-%dT%H:%M:%SZ')\n",
    "\n",
    "    return date_obj"
   ]
  },
  {
   "cell_type": "code",
   "execution_count": 20,
   "metadata": {},
   "outputs": [
    {
     "data": {
      "text/plain": [
       "datetime.datetime(1923, 5, 27, 0, 0)"
      ]
     },
     "execution_count": 20,
     "metadata": {},
     "output_type": "execute_result"
    }
   ],
   "source": [
    "birth_date = get_birth_death_date(\"P569\", entity_id)\n",
    "birth_date"
   ]
  },
  {
   "cell_type": "code",
   "execution_count": 21,
   "metadata": {},
   "outputs": [
    {
     "name": "stdout",
     "output_type": "stream",
     "text": [
      "2023-11-29 00:00:00\n",
      "<class 'datetime.datetime'>\n"
     ]
    }
   ],
   "source": [
    "try:\n",
    "    death_date = get_birth_death_date(\"P570\", entity_id)\n",
    "    print(death_date)\n",
    "    print(type(death_date))\n",
    "except:\n",
    "    print(\"No Death Date\")"
   ]
  }
 ],
 "metadata": {
  "kernelspec": {
   "display_name": "venv",
   "language": "python",
   "name": "python3"
  },
  "language_info": {
   "codemirror_mode": {
    "name": "ipython",
    "version": 3
   },
   "file_extension": ".py",
   "mimetype": "text/x-python",
   "name": "python",
   "nbconvert_exporter": "python",
   "pygments_lexer": "ipython3",
   "version": "3.11.6"
  }
 },
 "nbformat": 4,
 "nbformat_minor": 2
}
