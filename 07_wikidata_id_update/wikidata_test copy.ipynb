{
 "cells": [
  {
   "cell_type": "markdown",
   "metadata": {},
   "source": [
    "# Wikidata Exploration\n",
    "\n",
    "https://www.jcchouinard.com/wikidata-api-python/"
   ]
  },
  {
   "cell_type": "code",
   "execution_count": 11,
   "metadata": {},
   "outputs": [],
   "source": [
    "import requests\n",
    "from datetime import datetime"
   ]
  },
  {
   "cell_type": "markdown",
   "metadata": {},
   "source": [
    "## Birth Date"
   ]
  },
  {
   "cell_type": "code",
   "execution_count": 12,
   "metadata": {},
   "outputs": [],
   "source": [
    "def fetch_wikidata(params):\n",
    "    url = \"https://www.wikidata.org/w/api.php\"\n",
    "    try:\n",
    "        response = requests.get(url, params=params)\n",
    "        return response.json()  # Return JSON content here\n",
    "    except requests.exceptions.RequestException as e:\n",
    "        return f\"There was an error: {e}\""
   ]
  },
  {
   "cell_type": "code",
   "execution_count": 13,
   "metadata": {},
   "outputs": [],
   "source": [
    "def get_wiki_id_from_page(page_title):\n",
    "\n",
    "    params = {\n",
    "        \"action\": \"wbgetentities\",\n",
    "        \"format\": \"json\",\n",
    "        \"sites\": \"enwiki\",  # This specifies the English Wikipedia\n",
    "        \"titles\": page_title,\n",
    "        \"languages\": \"en\",  # Language for labels and descriptions\n",
    "    }\n",
    "\n",
    "    # Fetch API\n",
    "    data = fetch_wikidata(params)\n",
    "\n",
    "    # Extract the Wikidata entity ID\n",
    "    entity_id = list(data['entities'].keys())[0]\n",
    "    return entity_id\n"
   ]
  },
  {
   "cell_type": "code",
   "execution_count": 14,
   "metadata": {},
   "outputs": [],
   "source": [
    "entity_id = get_wiki_id_from_page(\"Tina_Turner\")"
   ]
  },
  {
   "cell_type": "markdown",
   "metadata": {},
   "source": [
    "## Birth Date"
   ]
  },
  {
   "cell_type": "code",
   "execution_count": 15,
   "metadata": {},
   "outputs": [],
   "source": [
    "def get_birth_death_date(identifier, entity_id):\n",
    "    # Create parameters\n",
    "    params = {\n",
    "        'action': 'wbgetentities',\n",
    "        'ids': entity_id, \n",
    "        'format': 'json',\n",
    "        'languages': 'en'\n",
    "    }\n",
    "\n",
    "    # Fetch the API\n",
    "    data = fetch_wikidata(params)\n",
    "\n",
    "    # Extract birth date\n",
    "    date_str = data['entities'][entity_id]['claims'][identifier][0]['mainsnak']['datavalue']['value']['time']\n",
    "    \n",
    "    # Parse the string into a datetime object\n",
    "    date_obj = datetime.strptime(date_str, '+%Y-%m-%dT%H:%M:%SZ')\n",
    "\n",
    "    return date_obj"
   ]
  },
  {
   "cell_type": "code",
   "execution_count": 16,
   "metadata": {},
   "outputs": [
    {
     "data": {
      "text/plain": [
       "datetime.datetime(1939, 11, 26, 0, 0)"
      ]
     },
     "execution_count": 16,
     "metadata": {},
     "output_type": "execute_result"
    }
   ],
   "source": [
    "birth_date = get_birth_death_date(\"P569\", entity_id)\n",
    "birth_date"
   ]
  },
  {
   "cell_type": "code",
   "execution_count": 17,
   "metadata": {},
   "outputs": [
    {
     "data": {
      "text/plain": [
       "datetime.datetime(2023, 5, 24, 0, 0)"
      ]
     },
     "execution_count": 17,
     "metadata": {},
     "output_type": "execute_result"
    }
   ],
   "source": [
    "death_date = get_birth_death_date(\"P570\", entity_id)\n",
    "death_date"
   ]
  }
 ],
 "metadata": {
  "kernelspec": {
   "display_name": "venv",
   "language": "python",
   "name": "python3"
  },
  "language_info": {
   "codemirror_mode": {
    "name": "ipython",
    "version": 3
   },
   "file_extension": ".py",
   "mimetype": "text/x-python",
   "name": "python",
   "nbconvert_exporter": "python",
   "pygments_lexer": "ipython3",
   "version": "3.11.5"
  }
 },
 "nbformat": 4,
 "nbformat_minor": 2
}
